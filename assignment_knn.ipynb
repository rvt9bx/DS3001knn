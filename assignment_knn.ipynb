{
  "cells": [
    {
      "cell_type": "markdown",
      "id": "f7ef20f0-722f-4240-8a79-437d4a3b8832",
      "metadata": {
        "id": "f7ef20f0-722f-4240-8a79-437d4a3b8832"
      },
      "source": [
        "## Assignment 3: $k$ Nearest Neighbor\n",
        "\n",
        "**Do two questions.**\n",
        "\n",
        "`! git clone https://github.com/DS3001/knn`"
      ]
    },
    {
      "cell_type": "code",
      "source": [
        "! git clone https://github.com/DS3001/knn"
      ],
      "metadata": {
        "id": "SNyImRs_rkl9",
        "outputId": "bf3a3dde-3dc1-490b-9f5a-8536a71dffe2",
        "colab": {
          "base_uri": "https://localhost:8080/"
        }
      },
      "id": "SNyImRs_rkl9",
      "execution_count": 1,
      "outputs": [
        {
          "output_type": "stream",
          "name": "stdout",
          "text": [
            "Cloning into 'knn'...\n",
            "remote: Enumerating objects: 40, done.\u001b[K\n",
            "remote: Counting objects: 100% (35/35), done.\u001b[K\n",
            "remote: Compressing objects: 100% (31/31), done.\u001b[K\n",
            "remote: Total 40 (delta 10), reused 23 (delta 3), pack-reused 5\u001b[K\n",
            "Receiving objects: 100% (40/40), 12.50 MiB | 15.70 MiB/s, done.\n",
            "Resolving deltas: 100% (10/10), done.\n"
          ]
        }
      ]
    },
    {
      "cell_type": "markdown",
      "id": "71c9e0b8-17f5-4ff9-9c76-2034bffe8d5c",
      "metadata": {
        "id": "71c9e0b8-17f5-4ff9-9c76-2034bffe8d5c"
      },
      "source": [
        "##**Q1.**\n",
        "This question is a case study for $k$ nearest neighbor The target variable `y` is `price` and the features are `year` and `mileage`.\n",
        "\n",
        "1. Load the `./data/USA_cars_datasets.csv`. Keep the following variables and drop the rest: `price`, `year`, `mileage`. Are there any `NA`'s to handle? Look at the head and dimensions of the data.\n",
        "2. Maxmin normalize `year` and `mileage`.\n",
        "3. Split the sample into ~80% for training and ~20% for evaluation.\n",
        "4. Use the $k$NN algorithm and the training data to predict `price` using `year` and `mileage` for the test set for $k=3,10,25,50,100,300$. For each value of $k$, compute the mean squared error and print a scatterplot showing the test value plotted against the predicted value. What patterns do you notice as you increase $k$?\n",
        "5. Determine the optimal $k$ for these data.\n",
        "6. Describe what happened in the plots of predicted versus actual prices as $k$ varied, taking your answer into part 6 into account. (Hint: Use the words \"underfitting\" and \"overfitting\".)"
      ]
    },
    {
      "cell_type": "markdown",
      "id": "010b57f7-bf4f-4494-b54c-49c4f3ae3ab9",
      "metadata": {
        "id": "010b57f7-bf4f-4494-b54c-49c4f3ae3ab9"
      },
      "source": [
        "## **Q2.**\n",
        "This question is a case study for $k$ nearest neighbor. The data for the question include:\n",
        "\n",
        "- age: age of the patient (years)\n",
        "- anaemia: decrease of red blood cells or hemoglobin (boolean)\n",
        "- high blood pressure: if the patient has hypertension (boolean)\n",
        "- creatinine phosphokinase (CPK): level of the CPK enzyme in the blood (mcg/L)\n",
        "- diabetes: if the patient has diabetes (boolean)\n",
        "- ejection fraction: percentage of blood leaving the heart at each contraction (percentage)\n",
        "- platelets: platelets in the blood (kiloplatelets/mL)\n",
        "- sex: woman or man (binary)\n",
        "- serum creatinine: level of serum creatinine in the blood (mg/dL)\n",
        "- serum sodium: level of serum sodium in the blood (mEq/L)\n",
        "- smoking: if the patient smokes or not (boolean)\n",
        "- time: follow-up period (days)\n",
        "- death event: if the patient deceased during the follow-up period (boolean)\n",
        "\n",
        "1. Load the `./data/heart_failure_clinical_records_dataset.csv`. Are there any `NA`'s to handle? use `.drop()` to remove `time` from the dataframe.\n",
        "2. Make a correlation matrix. What variables are strongly associated with a death event?\n",
        "3. For the dummy variables `anaemia`, `diabetes`, `high_blood_pressure`, `sex`, and `smoking`, compute a summary table of `DEATH_EVENT` grouped by the variable. For which variables does a higher proportion of the population die when the variable takes the value 1 rather than 0?\n",
        "4. On the basis of your answers from 2 and 3, build a matrix $X$ of the variables you think are most predictive of a death, and a variable $y$ equal to `DEATH_EVENT`.\n",
        "5. Maxmin normalize all of the variables in `X`.\n",
        "6. Split the sample into ~80% for training and ~20% for evaluation. (Try to use the same train/test split for the whole question, so that you're comparing apples to apples in the questions below.).\n",
        "7. Determine the optimal number of neighbors for a $k$NN regression for the variables you selected.\n",
        "8. OK, do steps 5 through 7 again, but use all of the variables (except `time`). Which model has a lower Sum of Squared Error? Which would you prefer to use in practice, if you had to predict `DEATH_EVENT`s? If you play with the selection of variables, how much does the SSE change for your fitted model on the test data? Are more variables always better? Explain your findings."
      ]
    },
    {
      "cell_type": "markdown",
      "source": [
        "### PT 1\n",
        "load data, find NAs, drop time"
      ],
      "metadata": {
        "id": "-8b50p9Yr1H8"
      },
      "id": "-8b50p9Yr1H8"
    },
    {
      "cell_type": "code",
      "source": [
        "#import packages\n",
        "import numpy as np\n",
        "import pandas as pd"
      ],
      "metadata": {
        "id": "dLbcbnD4r9e9"
      },
      "id": "dLbcbnD4r9e9",
      "execution_count": 2,
      "outputs": []
    },
    {
      "cell_type": "code",
      "source": [
        "# import data\n",
        "df = pd.read_csv(\"/content/knn/data/heart_failure_clinical_records_dataset.csv\", low_memory=False)"
      ],
      "metadata": {
        "id": "z5W9PwQ5rzx6"
      },
      "id": "z5W9PwQ5rzx6",
      "execution_count": 3,
      "outputs": []
    },
    {
      "cell_type": "code",
      "source": [
        "# drop time column\n",
        "df= df.drop('time', axis=1)"
      ],
      "metadata": {
        "id": "SScTGLeIsK8e"
      },
      "id": "SScTGLeIsK8e",
      "execution_count": 4,
      "outputs": []
    },
    {
      "cell_type": "code",
      "source": [
        "# are there any NAs?\n",
        "\n",
        "for col in df.columns:\n",
        "  print(col, \"=\", sum(df[col].isnull()))"
      ],
      "metadata": {
        "id": "D-5TpZKxswRD",
        "outputId": "bb594e80-542e-44dc-a215-e8e1088748ad",
        "colab": {
          "base_uri": "https://localhost:8080/"
        }
      },
      "id": "D-5TpZKxswRD",
      "execution_count": null,
      "outputs": [
        {
          "output_type": "stream",
          "name": "stdout",
          "text": [
            "age = 0\n",
            "anaemia = 0\n",
            "creatinine_phosphokinase = 0\n",
            "diabetes = 0\n",
            "ejection_fraction = 0\n",
            "high_blood_pressure = 0\n",
            "platelets = 0\n",
            "serum_creatinine = 0\n",
            "serum_sodium = 0\n",
            "sex = 0\n",
            "smoking = 0\n",
            "DEATH_EVENT = 0\n"
          ]
        }
      ]
    },
    {
      "cell_type": "markdown",
      "source": [
        "no, there are no null values!"
      ],
      "metadata": {
        "id": "rN9UjO9EuTWo"
      },
      "id": "rN9UjO9EuTWo"
    },
    {
      "cell_type": "markdown",
      "source": [
        "### PT 2\n",
        "\n",
        "correlation matrix"
      ],
      "metadata": {
        "id": "kP11gNuXuVsp"
      },
      "id": "kP11gNuXuVsp"
    },
    {
      "cell_type": "code",
      "source": [
        "# correlation matrix\n",
        "matrix = df.corr()\n",
        "matrix"
      ],
      "metadata": {
        "id": "Z0FpPH7Kuc8d",
        "outputId": "af8aa0db-349b-4716-baca-be33fe787c63",
        "colab": {
          "base_uri": "https://localhost:8080/",
          "height": 446
        }
      },
      "id": "Z0FpPH7Kuc8d",
      "execution_count": null,
      "outputs": [
        {
          "output_type": "execute_result",
          "data": {
            "text/plain": [
              "                               age   anaemia  creatinine_phosphokinase  \\\n",
              "age                       1.000000  0.088006                 -0.081584   \n",
              "anaemia                   0.088006  1.000000                 -0.190741   \n",
              "creatinine_phosphokinase -0.081584 -0.190741                  1.000000   \n",
              "diabetes                 -0.101012 -0.012729                 -0.009639   \n",
              "ejection_fraction         0.060098  0.031557                 -0.044080   \n",
              "high_blood_pressure       0.093289  0.038182                 -0.070590   \n",
              "platelets                -0.052354 -0.043786                  0.024463   \n",
              "serum_creatinine          0.159187  0.052174                 -0.016408   \n",
              "serum_sodium             -0.045966  0.041882                  0.059550   \n",
              "sex                       0.065430 -0.094769                  0.079791   \n",
              "smoking                   0.018668 -0.107290                  0.002421   \n",
              "DEATH_EVENT               0.253729  0.066270                  0.062728   \n",
              "\n",
              "                          diabetes  ejection_fraction  high_blood_pressure  \\\n",
              "age                      -0.101012           0.060098             0.093289   \n",
              "anaemia                  -0.012729           0.031557             0.038182   \n",
              "creatinine_phosphokinase -0.009639          -0.044080            -0.070590   \n",
              "diabetes                  1.000000          -0.004850            -0.012732   \n",
              "ejection_fraction        -0.004850           1.000000             0.024445   \n",
              "high_blood_pressure      -0.012732           0.024445             1.000000   \n",
              "platelets                 0.092193           0.072177             0.049963   \n",
              "serum_creatinine         -0.046975          -0.011302            -0.004935   \n",
              "serum_sodium             -0.089551           0.175902             0.037109   \n",
              "sex                      -0.157730          -0.148386            -0.104615   \n",
              "smoking                  -0.147173          -0.067315            -0.055711   \n",
              "DEATH_EVENT              -0.001943          -0.268603             0.079351   \n",
              "\n",
              "                          platelets  serum_creatinine  serum_sodium       sex  \\\n",
              "age                       -0.052354          0.159187     -0.045966  0.065430   \n",
              "anaemia                   -0.043786          0.052174      0.041882 -0.094769   \n",
              "creatinine_phosphokinase   0.024463         -0.016408      0.059550  0.079791   \n",
              "diabetes                   0.092193         -0.046975     -0.089551 -0.157730   \n",
              "ejection_fraction          0.072177         -0.011302      0.175902 -0.148386   \n",
              "high_blood_pressure        0.049963         -0.004935      0.037109 -0.104615   \n",
              "platelets                  1.000000         -0.041198      0.062125 -0.125120   \n",
              "serum_creatinine          -0.041198          1.000000     -0.189095  0.006970   \n",
              "serum_sodium               0.062125         -0.189095      1.000000 -0.027566   \n",
              "sex                       -0.125120          0.006970     -0.027566  1.000000   \n",
              "smoking                    0.028234         -0.027414      0.004813  0.445892   \n",
              "DEATH_EVENT               -0.049139          0.294278     -0.195204 -0.004316   \n",
              "\n",
              "                           smoking  DEATH_EVENT  \n",
              "age                       0.018668     0.253729  \n",
              "anaemia                  -0.107290     0.066270  \n",
              "creatinine_phosphokinase  0.002421     0.062728  \n",
              "diabetes                 -0.147173    -0.001943  \n",
              "ejection_fraction        -0.067315    -0.268603  \n",
              "high_blood_pressure      -0.055711     0.079351  \n",
              "platelets                 0.028234    -0.049139  \n",
              "serum_creatinine         -0.027414     0.294278  \n",
              "serum_sodium              0.004813    -0.195204  \n",
              "sex                       0.445892    -0.004316  \n",
              "smoking                   1.000000    -0.012623  \n",
              "DEATH_EVENT              -0.012623     1.000000  "
            ],
            "text/html": [
              "\n",
              "  <div id=\"df-49ccc834-e48c-40ae-93e4-83e23b446e07\" class=\"colab-df-container\">\n",
              "    <div>\n",
              "<style scoped>\n",
              "    .dataframe tbody tr th:only-of-type {\n",
              "        vertical-align: middle;\n",
              "    }\n",
              "\n",
              "    .dataframe tbody tr th {\n",
              "        vertical-align: top;\n",
              "    }\n",
              "\n",
              "    .dataframe thead th {\n",
              "        text-align: right;\n",
              "    }\n",
              "</style>\n",
              "<table border=\"1\" class=\"dataframe\">\n",
              "  <thead>\n",
              "    <tr style=\"text-align: right;\">\n",
              "      <th></th>\n",
              "      <th>age</th>\n",
              "      <th>anaemia</th>\n",
              "      <th>creatinine_phosphokinase</th>\n",
              "      <th>diabetes</th>\n",
              "      <th>ejection_fraction</th>\n",
              "      <th>high_blood_pressure</th>\n",
              "      <th>platelets</th>\n",
              "      <th>serum_creatinine</th>\n",
              "      <th>serum_sodium</th>\n",
              "      <th>sex</th>\n",
              "      <th>smoking</th>\n",
              "      <th>DEATH_EVENT</th>\n",
              "    </tr>\n",
              "  </thead>\n",
              "  <tbody>\n",
              "    <tr>\n",
              "      <th>age</th>\n",
              "      <td>1.000000</td>\n",
              "      <td>0.088006</td>\n",
              "      <td>-0.081584</td>\n",
              "      <td>-0.101012</td>\n",
              "      <td>0.060098</td>\n",
              "      <td>0.093289</td>\n",
              "      <td>-0.052354</td>\n",
              "      <td>0.159187</td>\n",
              "      <td>-0.045966</td>\n",
              "      <td>0.065430</td>\n",
              "      <td>0.018668</td>\n",
              "      <td>0.253729</td>\n",
              "    </tr>\n",
              "    <tr>\n",
              "      <th>anaemia</th>\n",
              "      <td>0.088006</td>\n",
              "      <td>1.000000</td>\n",
              "      <td>-0.190741</td>\n",
              "      <td>-0.012729</td>\n",
              "      <td>0.031557</td>\n",
              "      <td>0.038182</td>\n",
              "      <td>-0.043786</td>\n",
              "      <td>0.052174</td>\n",
              "      <td>0.041882</td>\n",
              "      <td>-0.094769</td>\n",
              "      <td>-0.107290</td>\n",
              "      <td>0.066270</td>\n",
              "    </tr>\n",
              "    <tr>\n",
              "      <th>creatinine_phosphokinase</th>\n",
              "      <td>-0.081584</td>\n",
              "      <td>-0.190741</td>\n",
              "      <td>1.000000</td>\n",
              "      <td>-0.009639</td>\n",
              "      <td>-0.044080</td>\n",
              "      <td>-0.070590</td>\n",
              "      <td>0.024463</td>\n",
              "      <td>-0.016408</td>\n",
              "      <td>0.059550</td>\n",
              "      <td>0.079791</td>\n",
              "      <td>0.002421</td>\n",
              "      <td>0.062728</td>\n",
              "    </tr>\n",
              "    <tr>\n",
              "      <th>diabetes</th>\n",
              "      <td>-0.101012</td>\n",
              "      <td>-0.012729</td>\n",
              "      <td>-0.009639</td>\n",
              "      <td>1.000000</td>\n",
              "      <td>-0.004850</td>\n",
              "      <td>-0.012732</td>\n",
              "      <td>0.092193</td>\n",
              "      <td>-0.046975</td>\n",
              "      <td>-0.089551</td>\n",
              "      <td>-0.157730</td>\n",
              "      <td>-0.147173</td>\n",
              "      <td>-0.001943</td>\n",
              "    </tr>\n",
              "    <tr>\n",
              "      <th>ejection_fraction</th>\n",
              "      <td>0.060098</td>\n",
              "      <td>0.031557</td>\n",
              "      <td>-0.044080</td>\n",
              "      <td>-0.004850</td>\n",
              "      <td>1.000000</td>\n",
              "      <td>0.024445</td>\n",
              "      <td>0.072177</td>\n",
              "      <td>-0.011302</td>\n",
              "      <td>0.175902</td>\n",
              "      <td>-0.148386</td>\n",
              "      <td>-0.067315</td>\n",
              "      <td>-0.268603</td>\n",
              "    </tr>\n",
              "    <tr>\n",
              "      <th>high_blood_pressure</th>\n",
              "      <td>0.093289</td>\n",
              "      <td>0.038182</td>\n",
              "      <td>-0.070590</td>\n",
              "      <td>-0.012732</td>\n",
              "      <td>0.024445</td>\n",
              "      <td>1.000000</td>\n",
              "      <td>0.049963</td>\n",
              "      <td>-0.004935</td>\n",
              "      <td>0.037109</td>\n",
              "      <td>-0.104615</td>\n",
              "      <td>-0.055711</td>\n",
              "      <td>0.079351</td>\n",
              "    </tr>\n",
              "    <tr>\n",
              "      <th>platelets</th>\n",
              "      <td>-0.052354</td>\n",
              "      <td>-0.043786</td>\n",
              "      <td>0.024463</td>\n",
              "      <td>0.092193</td>\n",
              "      <td>0.072177</td>\n",
              "      <td>0.049963</td>\n",
              "      <td>1.000000</td>\n",
              "      <td>-0.041198</td>\n",
              "      <td>0.062125</td>\n",
              "      <td>-0.125120</td>\n",
              "      <td>0.028234</td>\n",
              "      <td>-0.049139</td>\n",
              "    </tr>\n",
              "    <tr>\n",
              "      <th>serum_creatinine</th>\n",
              "      <td>0.159187</td>\n",
              "      <td>0.052174</td>\n",
              "      <td>-0.016408</td>\n",
              "      <td>-0.046975</td>\n",
              "      <td>-0.011302</td>\n",
              "      <td>-0.004935</td>\n",
              "      <td>-0.041198</td>\n",
              "      <td>1.000000</td>\n",
              "      <td>-0.189095</td>\n",
              "      <td>0.006970</td>\n",
              "      <td>-0.027414</td>\n",
              "      <td>0.294278</td>\n",
              "    </tr>\n",
              "    <tr>\n",
              "      <th>serum_sodium</th>\n",
              "      <td>-0.045966</td>\n",
              "      <td>0.041882</td>\n",
              "      <td>0.059550</td>\n",
              "      <td>-0.089551</td>\n",
              "      <td>0.175902</td>\n",
              "      <td>0.037109</td>\n",
              "      <td>0.062125</td>\n",
              "      <td>-0.189095</td>\n",
              "      <td>1.000000</td>\n",
              "      <td>-0.027566</td>\n",
              "      <td>0.004813</td>\n",
              "      <td>-0.195204</td>\n",
              "    </tr>\n",
              "    <tr>\n",
              "      <th>sex</th>\n",
              "      <td>0.065430</td>\n",
              "      <td>-0.094769</td>\n",
              "      <td>0.079791</td>\n",
              "      <td>-0.157730</td>\n",
              "      <td>-0.148386</td>\n",
              "      <td>-0.104615</td>\n",
              "      <td>-0.125120</td>\n",
              "      <td>0.006970</td>\n",
              "      <td>-0.027566</td>\n",
              "      <td>1.000000</td>\n",
              "      <td>0.445892</td>\n",
              "      <td>-0.004316</td>\n",
              "    </tr>\n",
              "    <tr>\n",
              "      <th>smoking</th>\n",
              "      <td>0.018668</td>\n",
              "      <td>-0.107290</td>\n",
              "      <td>0.002421</td>\n",
              "      <td>-0.147173</td>\n",
              "      <td>-0.067315</td>\n",
              "      <td>-0.055711</td>\n",
              "      <td>0.028234</td>\n",
              "      <td>-0.027414</td>\n",
              "      <td>0.004813</td>\n",
              "      <td>0.445892</td>\n",
              "      <td>1.000000</td>\n",
              "      <td>-0.012623</td>\n",
              "    </tr>\n",
              "    <tr>\n",
              "      <th>DEATH_EVENT</th>\n",
              "      <td>0.253729</td>\n",
              "      <td>0.066270</td>\n",
              "      <td>0.062728</td>\n",
              "      <td>-0.001943</td>\n",
              "      <td>-0.268603</td>\n",
              "      <td>0.079351</td>\n",
              "      <td>-0.049139</td>\n",
              "      <td>0.294278</td>\n",
              "      <td>-0.195204</td>\n",
              "      <td>-0.004316</td>\n",
              "      <td>-0.012623</td>\n",
              "      <td>1.000000</td>\n",
              "    </tr>\n",
              "  </tbody>\n",
              "</table>\n",
              "</div>\n",
              "    <div class=\"colab-df-buttons\">\n",
              "\n",
              "  <div class=\"colab-df-container\">\n",
              "    <button class=\"colab-df-convert\" onclick=\"convertToInteractive('df-49ccc834-e48c-40ae-93e4-83e23b446e07')\"\n",
              "            title=\"Convert this dataframe to an interactive table.\"\n",
              "            style=\"display:none;\">\n",
              "\n",
              "  <svg xmlns=\"http://www.w3.org/2000/svg\" height=\"24px\" viewBox=\"0 -960 960 960\">\n",
              "    <path d=\"M120-120v-720h720v720H120Zm60-500h600v-160H180v160Zm220 220h160v-160H400v160Zm0 220h160v-160H400v160ZM180-400h160v-160H180v160Zm440 0h160v-160H620v160ZM180-180h160v-160H180v160Zm440 0h160v-160H620v160Z\"/>\n",
              "  </svg>\n",
              "    </button>\n",
              "\n",
              "  <style>\n",
              "    .colab-df-container {\n",
              "      display:flex;\n",
              "      gap: 12px;\n",
              "    }\n",
              "\n",
              "    .colab-df-convert {\n",
              "      background-color: #E8F0FE;\n",
              "      border: none;\n",
              "      border-radius: 50%;\n",
              "      cursor: pointer;\n",
              "      display: none;\n",
              "      fill: #1967D2;\n",
              "      height: 32px;\n",
              "      padding: 0 0 0 0;\n",
              "      width: 32px;\n",
              "    }\n",
              "\n",
              "    .colab-df-convert:hover {\n",
              "      background-color: #E2EBFA;\n",
              "      box-shadow: 0px 1px 2px rgba(60, 64, 67, 0.3), 0px 1px 3px 1px rgba(60, 64, 67, 0.15);\n",
              "      fill: #174EA6;\n",
              "    }\n",
              "\n",
              "    .colab-df-buttons div {\n",
              "      margin-bottom: 4px;\n",
              "    }\n",
              "\n",
              "    [theme=dark] .colab-df-convert {\n",
              "      background-color: #3B4455;\n",
              "      fill: #D2E3FC;\n",
              "    }\n",
              "\n",
              "    [theme=dark] .colab-df-convert:hover {\n",
              "      background-color: #434B5C;\n",
              "      box-shadow: 0px 1px 3px 1px rgba(0, 0, 0, 0.15);\n",
              "      filter: drop-shadow(0px 1px 2px rgba(0, 0, 0, 0.3));\n",
              "      fill: #FFFFFF;\n",
              "    }\n",
              "  </style>\n",
              "\n",
              "    <script>\n",
              "      const buttonEl =\n",
              "        document.querySelector('#df-49ccc834-e48c-40ae-93e4-83e23b446e07 button.colab-df-convert');\n",
              "      buttonEl.style.display =\n",
              "        google.colab.kernel.accessAllowed ? 'block' : 'none';\n",
              "\n",
              "      async function convertToInteractive(key) {\n",
              "        const element = document.querySelector('#df-49ccc834-e48c-40ae-93e4-83e23b446e07');\n",
              "        const dataTable =\n",
              "          await google.colab.kernel.invokeFunction('convertToInteractive',\n",
              "                                                    [key], {});\n",
              "        if (!dataTable) return;\n",
              "\n",
              "        const docLinkHtml = 'Like what you see? Visit the ' +\n",
              "          '<a target=\"_blank\" href=https://colab.research.google.com/notebooks/data_table.ipynb>data table notebook</a>'\n",
              "          + ' to learn more about interactive tables.';\n",
              "        element.innerHTML = '';\n",
              "        dataTable['output_type'] = 'display_data';\n",
              "        await google.colab.output.renderOutput(dataTable, element);\n",
              "        const docLink = document.createElement('div');\n",
              "        docLink.innerHTML = docLinkHtml;\n",
              "        element.appendChild(docLink);\n",
              "      }\n",
              "    </script>\n",
              "  </div>\n",
              "\n",
              "\n",
              "<div id=\"df-bdc56e61-b7c8-47cb-aa1c-aba5a052e3b8\">\n",
              "  <button class=\"colab-df-quickchart\" onclick=\"quickchart('df-bdc56e61-b7c8-47cb-aa1c-aba5a052e3b8')\"\n",
              "            title=\"Suggest charts\"\n",
              "            style=\"display:none;\">\n",
              "\n",
              "<svg xmlns=\"http://www.w3.org/2000/svg\" height=\"24px\"viewBox=\"0 0 24 24\"\n",
              "     width=\"24px\">\n",
              "    <g>\n",
              "        <path d=\"M19 3H5c-1.1 0-2 .9-2 2v14c0 1.1.9 2 2 2h14c1.1 0 2-.9 2-2V5c0-1.1-.9-2-2-2zM9 17H7v-7h2v7zm4 0h-2V7h2v10zm4 0h-2v-4h2v4z\"/>\n",
              "    </g>\n",
              "</svg>\n",
              "  </button>\n",
              "\n",
              "<style>\n",
              "  .colab-df-quickchart {\n",
              "      --bg-color: #E8F0FE;\n",
              "      --fill-color: #1967D2;\n",
              "      --hover-bg-color: #E2EBFA;\n",
              "      --hover-fill-color: #174EA6;\n",
              "      --disabled-fill-color: #AAA;\n",
              "      --disabled-bg-color: #DDD;\n",
              "  }\n",
              "\n",
              "  [theme=dark] .colab-df-quickchart {\n",
              "      --bg-color: #3B4455;\n",
              "      --fill-color: #D2E3FC;\n",
              "      --hover-bg-color: #434B5C;\n",
              "      --hover-fill-color: #FFFFFF;\n",
              "      --disabled-bg-color: #3B4455;\n",
              "      --disabled-fill-color: #666;\n",
              "  }\n",
              "\n",
              "  .colab-df-quickchart {\n",
              "    background-color: var(--bg-color);\n",
              "    border: none;\n",
              "    border-radius: 50%;\n",
              "    cursor: pointer;\n",
              "    display: none;\n",
              "    fill: var(--fill-color);\n",
              "    height: 32px;\n",
              "    padding: 0;\n",
              "    width: 32px;\n",
              "  }\n",
              "\n",
              "  .colab-df-quickchart:hover {\n",
              "    background-color: var(--hover-bg-color);\n",
              "    box-shadow: 0 1px 2px rgba(60, 64, 67, 0.3), 0 1px 3px 1px rgba(60, 64, 67, 0.15);\n",
              "    fill: var(--button-hover-fill-color);\n",
              "  }\n",
              "\n",
              "  .colab-df-quickchart-complete:disabled,\n",
              "  .colab-df-quickchart-complete:disabled:hover {\n",
              "    background-color: var(--disabled-bg-color);\n",
              "    fill: var(--disabled-fill-color);\n",
              "    box-shadow: none;\n",
              "  }\n",
              "\n",
              "  .colab-df-spinner {\n",
              "    border: 2px solid var(--fill-color);\n",
              "    border-color: transparent;\n",
              "    border-bottom-color: var(--fill-color);\n",
              "    animation:\n",
              "      spin 1s steps(1) infinite;\n",
              "  }\n",
              "\n",
              "  @keyframes spin {\n",
              "    0% {\n",
              "      border-color: transparent;\n",
              "      border-bottom-color: var(--fill-color);\n",
              "      border-left-color: var(--fill-color);\n",
              "    }\n",
              "    20% {\n",
              "      border-color: transparent;\n",
              "      border-left-color: var(--fill-color);\n",
              "      border-top-color: var(--fill-color);\n",
              "    }\n",
              "    30% {\n",
              "      border-color: transparent;\n",
              "      border-left-color: var(--fill-color);\n",
              "      border-top-color: var(--fill-color);\n",
              "      border-right-color: var(--fill-color);\n",
              "    }\n",
              "    40% {\n",
              "      border-color: transparent;\n",
              "      border-right-color: var(--fill-color);\n",
              "      border-top-color: var(--fill-color);\n",
              "    }\n",
              "    60% {\n",
              "      border-color: transparent;\n",
              "      border-right-color: var(--fill-color);\n",
              "    }\n",
              "    80% {\n",
              "      border-color: transparent;\n",
              "      border-right-color: var(--fill-color);\n",
              "      border-bottom-color: var(--fill-color);\n",
              "    }\n",
              "    90% {\n",
              "      border-color: transparent;\n",
              "      border-bottom-color: var(--fill-color);\n",
              "    }\n",
              "  }\n",
              "</style>\n",
              "\n",
              "  <script>\n",
              "    async function quickchart(key) {\n",
              "      const quickchartButtonEl =\n",
              "        document.querySelector('#' + key + ' button');\n",
              "      quickchartButtonEl.disabled = true;  // To prevent multiple clicks.\n",
              "      quickchartButtonEl.classList.add('colab-df-spinner');\n",
              "      try {\n",
              "        const charts = await google.colab.kernel.invokeFunction(\n",
              "            'suggestCharts', [key], {});\n",
              "      } catch (error) {\n",
              "        console.error('Error during call to suggestCharts:', error);\n",
              "      }\n",
              "      quickchartButtonEl.classList.remove('colab-df-spinner');\n",
              "      quickchartButtonEl.classList.add('colab-df-quickchart-complete');\n",
              "    }\n",
              "    (() => {\n",
              "      let quickchartButtonEl =\n",
              "        document.querySelector('#df-bdc56e61-b7c8-47cb-aa1c-aba5a052e3b8 button');\n",
              "      quickchartButtonEl.style.display =\n",
              "        google.colab.kernel.accessAllowed ? 'block' : 'none';\n",
              "    })();\n",
              "  </script>\n",
              "</div>\n",
              "    </div>\n",
              "  </div>\n"
            ],
            "application/vnd.google.colaboratory.intrinsic+json": {
              "type": "dataframe",
              "variable_name": "matrix",
              "summary": "{\n  \"name\": \"matrix\",\n  \"rows\": 12,\n  \"fields\": [\n    {\n      \"column\": \"age\",\n      \"properties\": {\n        \"dtype\": \"number\",\n        \"std\": 0.2952807785489794,\n        \"min\": -0.10101238518196966,\n        \"max\": 1.0,\n        \"samples\": [\n          0.018667867990770408,\n          0.06542952364475427,\n          1.0\n        ],\n        \"num_unique_values\": 12,\n        \"semantic_type\": \"\",\n        \"description\": \"\"\n      }\n    },\n    {\n      \"column\": \"anaemia\",\n      \"properties\": {\n        \"dtype\": \"number\",\n        \"std\": 0.30378304725364297,\n        \"min\": -0.19074103020066285,\n        \"max\": 1.0,\n        \"samples\": [\n          -0.10728983823716665,\n          -0.09476896093314953,\n          0.0880064413193916\n        ],\n        \"num_unique_values\": 12,\n        \"semantic_type\": \"\",\n        \"description\": \"\"\n      }\n    },\n    {\n      \"column\": \"creatinine_phosphokinase\",\n      \"properties\": {\n        \"dtype\": \"number\",\n        \"std\": 0.30291043147441227,\n        \"min\": -0.19074103020066285,\n        \"max\": 1.0,\n        \"samples\": [\n          0.0024212351965237004,\n          0.07979062873290346,\n          -0.08158389977909229\n        ],\n        \"num_unique_values\": 12,\n        \"semantic_type\": \"\",\n        \"description\": \"\"\n      }\n    },\n    {\n      \"column\": \"diabetes\",\n      \"properties\": {\n        \"dtype\": \"number\",\n        \"std\": 0.30960658551696546,\n        \"min\": -0.15772950433810978,\n        \"max\": 1.0,\n        \"samples\": [\n          -0.1471734133234141,\n          -0.15772950433810978,\n          -0.10101238518196966\n        ],\n        \"num_unique_values\": 12,\n        \"semantic_type\": \"\",\n        \"description\": \"\"\n      }\n    },\n    {\n      \"column\": \"ejection_fraction\",\n      \"properties\": {\n        \"dtype\": \"number\",\n        \"std\": 0.31423260402253295,\n        \"min\": -0.26860331239406127,\n        \"max\": 1.0,\n        \"samples\": [\n          -0.06731456733133784,\n          -0.14838596532635928,\n          0.06009836323291317\n        ],\n        \"num_unique_values\": 12,\n        \"semantic_type\": \"\",\n        \"description\": \"\"\n      }\n    },\n    {\n      \"column\": \"high_blood_pressure\",\n      \"properties\": {\n        \"dtype\": \"number\",\n        \"std\": 0.29295767628781544,\n        \"min\": -0.10461462935689739,\n        \"max\": 1.0,\n        \"samples\": [\n          -0.055711368777562775,\n          -0.10461462935689739,\n          0.09328868460631876\n        ],\n        \"num_unique_values\": 12,\n        \"semantic_type\": \"\",\n        \"description\": \"\"\n      }\n    },\n    {\n      \"column\": \"platelets\",\n      \"properties\": {\n        \"dtype\": \"number\",\n        \"std\": 0.2953580654739879,\n        \"min\": -0.12512048280918261,\n        \"max\": 1.0,\n        \"samples\": [\n          0.02823444771434774,\n          -0.12512048280918261,\n          -0.05235436663012704\n        ],\n        \"num_unique_values\": 12,\n        \"semantic_type\": \"\",\n        \"description\": \"\"\n      }\n    },\n    {\n      \"column\": \"serum_creatinine\",\n      \"properties\": {\n        \"dtype\": \"number\",\n        \"std\": 0.3075471024237243,\n        \"min\": -0.18909521009117405,\n        \"max\": 1.0,\n        \"samples\": [\n          -0.027414135447069114,\n          0.006969778483151021,\n          0.15918713328355003\n        ],\n        \"num_unique_values\": 12,\n        \"semantic_type\": \"\",\n        \"description\": \"\"\n      }\n    },\n    {\n      \"column\": \"serum_sodium\",\n      \"properties\": {\n        \"dtype\": \"number\",\n        \"std\": 0.311636758927629,\n        \"min\": -0.19520359641640217,\n        \"max\": 1.0,\n        \"samples\": [\n          0.004813194662557512,\n          -0.02756612272823605,\n          -0.045965840839560256\n        ],\n        \"num_unique_values\": 12,\n        \"semantic_type\": \"\",\n        \"description\": \"\"\n      }\n    },\n    {\n      \"column\": \"sex\",\n      \"properties\": {\n        \"dtype\": \"number\",\n        \"std\": 0.3330068462856133,\n        \"min\": -0.15772950433810978,\n        \"max\": 1.0,\n        \"samples\": [\n          0.4458917119097906,\n          1.0,\n          0.06542952364475427\n        ],\n        \"num_unique_values\": 12,\n        \"semantic_type\": \"\",\n        \"description\": \"\"\n      }\n    },\n    {\n      \"column\": \"smoking\",\n      \"properties\": {\n        \"dtype\": \"number\",\n        \"std\": 0.32249880229806693,\n        \"min\": -0.1471734133234141,\n        \"max\": 1.0,\n        \"samples\": [\n          1.0,\n          0.4458917119097906,\n          0.018667867990770408\n        ],\n        \"num_unique_values\": 12,\n        \"semantic_type\": \"\",\n        \"description\": \"\"\n      }\n    },\n    {\n      \"column\": \"DEATH_EVENT\",\n      \"properties\": {\n        \"dtype\": \"number\",\n        \"std\": 0.32382565149580333,\n        \"min\": -0.26860331239406127,\n        \"max\": 1.0,\n        \"samples\": [\n          -0.012623152709359344,\n          -0.004316376319703093,\n          0.25372854308800347\n        ],\n        \"num_unique_values\": 12,\n        \"semantic_type\": \"\",\n        \"description\": \"\"\n      }\n    }\n  ]\n}"
            }
          },
          "metadata": {},
          "execution_count": 24
        }
      ]
    },
    {
      "cell_type": "markdown",
      "source": [
        "Things that have higher positive correlations with death event: age,serum_creatinine.\n",
        "\n",
        "Things that have higher negative correlations with death event:\n",
        "ejection_fraction, serum_sodium.\n",
        "\n",
        "Other fun thing I noticed: smoking is highly correlated with sex!"
      ],
      "metadata": {
        "id": "_NQk-BgZwvFn"
      },
      "id": "_NQk-BgZwvFn"
    },
    {
      "cell_type": "markdown",
      "source": [
        "### PT 3\n",
        "summary tables for death event based on anaemia, diabetes, blood pressure, sex, smoking"
      ],
      "metadata": {
        "id": "oIj8GymzxefY"
      },
      "id": "oIj8GymzxefY"
    },
    {
      "cell_type": "code",
      "source": [
        "vars = ['anaemia', 'diabetes','high_blood_pressure','sex','smoking']\n",
        "\n",
        "for each in vars:\n",
        "  var_df = df.loc[:,[each, 'DEATH_EVENT']]\n",
        "  print(var_df.groupby(each).describe())"
      ],
      "metadata": {
        "id": "go2_dquax9aJ",
        "outputId": "dae44986-9f84-4997-8e63-46dbf0ed777e",
        "colab": {
          "base_uri": "https://localhost:8080/"
        }
      },
      "id": "go2_dquax9aJ",
      "execution_count": 6,
      "outputs": [
        {
          "output_type": "stream",
          "name": "stdout",
          "text": [
            "        DEATH_EVENT                                             \n",
            "              count      mean       std  min  25%  50%  75%  max\n",
            "anaemia                                                         \n",
            "0             170.0  0.294118  0.456991  0.0  0.0  0.0  1.0  1.0\n",
            "1             129.0  0.356589  0.480859  0.0  0.0  0.0  1.0  1.0\n",
            "         DEATH_EVENT                                             \n",
            "               count      mean       std  min  25%  50%  75%  max\n",
            "diabetes                                                         \n",
            "0              174.0  0.321839  0.468530  0.0  0.0  0.0  1.0  1.0\n",
            "1              125.0  0.320000  0.468353  0.0  0.0  0.0  1.0  1.0\n",
            "                    DEATH_EVENT                                             \n",
            "                          count      mean       std  min  25%  50%  75%  max\n",
            "high_blood_pressure                                                         \n",
            "0                         194.0  0.293814  0.456687  0.0  0.0  0.0  1.0  1.0\n",
            "1                         105.0  0.371429  0.485504  0.0  0.0  0.0  1.0  1.0\n",
            "    DEATH_EVENT                                             \n",
            "          count      mean       std  min  25%  50%  75%  max\n",
            "sex                                                         \n",
            "0         105.0  0.323810  0.470173  0.0  0.0  0.0  1.0  1.0\n",
            "1         194.0  0.319588  0.467523  0.0  0.0  0.0  1.0  1.0\n",
            "        DEATH_EVENT                                             \n",
            "              count      mean       std  min  25%  50%  75%  max\n",
            "smoking                                                         \n",
            "0             203.0  0.325123  0.469579  0.0  0.0  0.0  1.0  1.0\n",
            "1              96.0  0.312500  0.465946  0.0  0.0  0.0  1.0  1.0\n"
          ]
        }
      ]
    },
    {
      "cell_type": "markdown",
      "source": [
        "For the variables high_blood_pressure and anaemia, the average of DEATH_EVENT is higher for the population with variable value 1 than with value 0. Specifically, the DEATH_EVENT average for the proportion of the population with high_blood_pressure = 1 is 0.37, which is higher than the average of 0.29 for the population with blood_pressure = 0. Similarly, the average DEATH_EVENT for people with anaemia = 1 is 0.35, while the average for people with anaemia = 0 is 0.29."
      ],
      "metadata": {
        "id": "vMn07lujWo-r"
      },
      "id": "vMn07lujWo-r"
    },
    {
      "cell_type": "markdown",
      "source": [
        "### PT 4\n",
        "make X variable matrix and y result vector"
      ],
      "metadata": {
        "id": "-q0bvrDhYfXT"
      },
      "id": "-q0bvrDhYfXT"
    },
    {
      "cell_type": "code",
      "source": [
        "# X variable matrix\n",
        "vars = ['anaemia','high_blood_pressure','age','serum_creatinine','ejection_fraction','serum_sodium']\n",
        "X = df.loc[:,vars]\n",
        "\n",
        "# y result vector\n",
        "y = df['DEATH_EVENT']"
      ],
      "metadata": {
        "id": "UQDLFZURYm6u"
      },
      "id": "UQDLFZURYm6u",
      "execution_count": 15,
      "outputs": []
    },
    {
      "cell_type": "markdown",
      "source": [
        "### PT 5\n",
        "\n",
        "maxmin normalize X"
      ],
      "metadata": {
        "id": "Nxd59-NvZWrl"
      },
      "id": "Nxd59-NvZWrl"
    },
    {
      "cell_type": "code",
      "source": [
        "def maxmin(z):\n",
        "    z = (z-min(z))/(max(z)-min(z))\n",
        "    return z\n",
        "\n",
        "X = X.apply(maxmin)"
      ],
      "metadata": {
        "id": "JclZLwraZZ8v"
      },
      "id": "JclZLwraZZ8v",
      "execution_count": 11,
      "outputs": []
    },
    {
      "cell_type": "markdown",
      "source": [
        "### PT 6\n",
        "split into test/train 80/20"
      ],
      "metadata": {
        "id": "mAm3sbhcaoxc"
      },
      "id": "mAm3sbhcaoxc"
    },
    {
      "cell_type": "code",
      "source": [
        "from sklearn.model_selection import train_test_split\n",
        "X_train, X_test, y_train, y_test = train_test_split(X,y, # Feature and target variables\n",
        "                                                    test_size=.2, # Split the sample 80 train/ 20 test\n",
        "                                                    random_state=0) # For replication purposes"
      ],
      "metadata": {
        "id": "meO0KGwKaofx"
      },
      "id": "meO0KGwKaofx",
      "execution_count": 12,
      "outputs": []
    },
    {
      "cell_type": "markdown",
      "source": [
        "### PT 7\n",
        "find optimal k"
      ],
      "metadata": {
        "id": "NH9QJ9Oybf6l"
      },
      "id": "NH9QJ9Oybf6l"
    },
    {
      "cell_type": "code",
      "source": [
        "from sklearn.neighbors import KNeighborsRegressor\n",
        "k_bar = 200 # Number of k's to try\n",
        "SSE = np.zeros(k_bar) # We'll store the SSE here\n",
        "\n",
        "for k in range(k_bar):\n",
        "    model = KNeighborsRegressor(n_neighbors=k+1) # Create a sk model for k\n",
        "    fitted_model = model.fit(X_train,y_train) # Train the model on our data\n",
        "    y_hat = fitted_model.predict(X_test) # Predict values for test set\n",
        "    SSE[k] = np.sum( (y_test-y_hat)**2 ) # Save the computed SSE for test set\n",
        "\n",
        "SSE_min = np.min(SSE) # Find lowest recorded SSE\n",
        "min_index = np.where(SSE==SSE_min) # Find the indices of SSE that equal the minimum\n",
        "k_star = min_index[0]+1 # Find the optimal value of k; why index+1?\n",
        "print(f'Optimal number of neighbors: {k_star}')\n",
        "print(f'SSE for optimal model: {SSE_min}')"
      ],
      "metadata": {
        "id": "0vdqpZ_ubsUP",
        "outputId": "62180ad3-6ed3-412a-84a3-8fcd166e65d2",
        "colab": {
          "base_uri": "https://localhost:8080/"
        }
      },
      "id": "0vdqpZ_ubsUP",
      "execution_count": 14,
      "outputs": [
        {
          "output_type": "stream",
          "name": "stdout",
          "text": [
            "Optimal number of neighbors: [17]\n",
            "SSE for optimal model: 12.975778546712803\n"
          ]
        }
      ]
    },
    {
      "cell_type": "markdown",
      "source": [
        "### PT 8\n",
        "same thing for all var except time"
      ],
      "metadata": {
        "id": "naPaO2WVcWNy"
      },
      "id": "naPaO2WVcWNy"
    },
    {
      "cell_type": "code",
      "source": [
        "# y result vector\n",
        "y = df['DEATH_EVENT']\n",
        "\n",
        "# X variable matrix\n",
        "X = df.drop('DEATH_EVENT', axis=1)\n",
        "\n",
        "# maxmin normalize X\n",
        "X = X.apply(maxmin)\n",
        "\n",
        "# split into 80/20 test/train\n",
        "X_train, X_test, y_train, y_test = train_test_split(X,y, # Feature and target variables\n",
        "                                                    test_size=.2, # Split the sample 80 train/ 20 test\n",
        "                                                    random_state=0) # For replication purposes\n",
        "\n",
        "# find optimal k\n",
        "k_bar = 200 # Number of k's to try\n",
        "SSE = np.zeros(k_bar) # We'll store the SSE here\n",
        "\n",
        "for k in range(k_bar):\n",
        "    model = KNeighborsRegressor(n_neighbors=k+1) # Create a sk model for k\n",
        "    fitted_model = model.fit(X_train,y_train) # Train the model on our data\n",
        "    y_hat = fitted_model.predict(X_test) # Predict values for test set\n",
        "    SSE[k] = np.sum( (y_test-y_hat)**2 ) # Save the computed SSE for test set\n",
        "\n",
        "SSE_min = np.min(SSE) # Find lowest recorded SSE\n",
        "min_index = np.where(SSE==SSE_min) # Find the indices of SSE that equal the minimum\n",
        "k_star = min_index[0]+1 # Find the optimal value of k; why index+1?\n",
        "print(f'Optimal number of neighbors: {k_star}')\n",
        "print(f'SSE for optimal model: {SSE_min}')"
      ],
      "metadata": {
        "id": "6LbW6NSscZXN",
        "outputId": "a2ae0ae1-e085-4bd7-a517-f73640b1ec70",
        "colab": {
          "base_uri": "https://localhost:8080/"
        }
      },
      "id": "6LbW6NSscZXN",
      "execution_count": 18,
      "outputs": [
        {
          "output_type": "stream",
          "name": "stdout",
          "text": [
            "Optimal number of neighbors: [18]\n",
            "SSE for optimal model: 13.651234567901234\n"
          ]
        }
      ]
    },
    {
      "cell_type": "markdown",
      "source": [],
      "metadata": {
        "id": "thQGz3o7dCM6"
      },
      "id": "thQGz3o7dCM6"
    },
    {
      "cell_type": "markdown",
      "id": "d457e190-d273-455f-b94f-62916cb5af1c",
      "metadata": {
        "id": "d457e190-d273-455f-b94f-62916cb5af1c"
      },
      "source": [
        "## **Q3.**\n",
        "Let's do some very basic computer vision. We're going to import the MNIST handwritten digits data and $k$NN to predict values (i.e. \"see/read\").\n",
        "\n",
        "1. To load the data, run the following code in a chunk:\n",
        "```\n",
        "from keras.datasets import mnist\n",
        "df = mnist.load_data('minst.db')\n",
        "train,test = df\n",
        "X_train, y_train = train\n",
        "X_test, y_test = test\n",
        "```\n",
        "The `y_test` and `y_train` vectors, for each index `i`, tell you want number is written in the corresponding index in `X_train[i]` and `X_test[i]`. The value of `X_train[i]` and `X_test[i]`, however, is a 28$\\times$28 array whose entries contain values between 0 and 256. Each element of the matrix is essentially a \"pixel\" and the matrix encodes a representation of a number. To visualize this, run the following code to see the first ten numbers:\n",
        "```\n",
        "import matplotlib.pyplot as plt\n",
        "import numpy as np\n",
        "np.set_printoptions(edgeitems=30, linewidth=100000)\n",
        "for i in range(5):\n",
        "    print(y_test[i],'\\n') # Print the label\n",
        "    print(X_test[i],'\\n') # Print the matrix of values\n",
        "    plt.contourf(np.rot90(X_test[i].transpose())) # Make a contour plot of the matrix values\n",
        "    plt.show()\n",
        "```\n",
        "OK, those are the data: Labels attached to handwritten digits encoded as a matrix.\n",
        "\n",
        "2. What is the shape of `X_train` and `X_test`? What is the shape of `X_train[i]` and `X_test[i]` for each index `i`? What is the shape of `y_train` and `y_test`?\n",
        "3. Use Numpy's `.reshape()` method to covert the training and testing data from a matrix into an vector of features. So, `X_test[index].reshape((1,784))` will convert the $index$-th element of `X_test` into a $28\\times 28=784$-length row vector of values, rather than a matrix. Turn `X_train` into an $N \\times 784$ matrix $X$ that is suitable for scikit-learn's kNN classifier where $N$ is the number of observations and $784=28*28$ (you could use, for example, a `for` loop).\n",
        "4. Use the reshaped `X_test` and `y_test` data to create a $k$-nearest neighbor classifier of digit. What is the optimal number of neighbors $k$? If you can't determine this, play around with different values of $k$ for your classifier.\n",
        "5. For the optimal number of neighbors, how well does your predictor perform on the test set?\n",
        "6. So, this is how computers \"see.\" They convert an image into a matrix of values, that matrix becomes a vector in a dataset, and then we deploy ML tools on it as if it was any other kind of tabular data. To make sure you follow this, invent a way to represent a color photo in matrix form, and then describe how you could convert it into tabular data. (Hint: RGB color codes provide a method of encoding a numeric value that represents a color.)"
      ]
    }
  ],
  "metadata": {
    "kernelspec": {
      "display_name": "Python 3 (ipykernel)",
      "language": "python",
      "name": "python3"
    },
    "language_info": {
      "codemirror_mode": {
        "name": "ipython",
        "version": 3
      },
      "file_extension": ".py",
      "mimetype": "text/x-python",
      "name": "python",
      "nbconvert_exporter": "python",
      "pygments_lexer": "ipython3",
      "version": "3.10.4"
    },
    "colab": {
      "provenance": []
    }
  },
  "nbformat": 4,
  "nbformat_minor": 5
}